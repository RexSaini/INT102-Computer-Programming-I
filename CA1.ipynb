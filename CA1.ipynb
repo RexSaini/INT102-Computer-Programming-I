{
  "nbformat": 4,
  "nbformat_minor": 0,
  "metadata": {
    "colab": {
      "name": "CA1.ipynb",
      "provenance": [],
      "collapsed_sections": []
    },
    "kernelspec": {
      "name": "python3",
      "display_name": "Python 3"
    },
    "language_info": {
      "name": "python"
    }
  },
  "cells": [
    {
      "cell_type": "markdown",
      "metadata": {
        "id": "8i1_OiFHQdAy"
      },
      "source": [
        "#**INT102-Computer Programming-I**\n",
        "#**CA1**\n",
        "#**Name: Rohan Kumar Saini**\n",
        "#**Roll No: RM2041A10**\n",
        "#**Registration No: 12011878**"
      ]
    },
    {
      "cell_type": "markdown",
      "metadata": {
        "id": "1br_0IofRIOZ"
      },
      "source": [
        "#Q1. An insurance company wants to  design the insurance policy for a driver where the company insures its drivers in the following cases:\n",
        "#-If the driver is married.\n",
        "#-If the driver is unmarried, male and above 30 years of age.\n",
        "#-If the driver is unmarried, female and above 25 years of age. \t"
      ]
    },
    {
      "cell_type": "code",
      "metadata": {
        "id": "-syuqLBDRPZQ"
      },
      "source": [
        "a=int(input('Enter the age of the driver in years= '))\n",
        "b=input('The driver is \"married\" or \"unmarried\"- ')\n",
        "c=input('The driver is \"male\" or \"female\"- ')\n",
        "if (b=='unmarried' and c=='male'):\n",
        "    if (a>30):\n",
        "        print(\"Insurance will be provided\")\n",
        "    elif (a==30):\n",
        "        print(\"Insurance will not be provided\")\n",
        "    else:\n",
        "        print(\"Insurance will not be provided\")\n",
        "elif (b=='unmarried' and c=='female'):\n",
        "    if (a>25):\n",
        "        print(\"Insurance will be provided\")\n",
        "    elif (a==25):\n",
        "        print(\"Insurance will not be provided\")\n",
        "    else:\n",
        "        print(\"Insurance will not be provided\")\n",
        "else:\n",
        "    print(\"Insurance will be provided\")\n",
        "print(\"END OF PROGRAM\")"
      ],
      "execution_count": null,
      "outputs": []
    },
    {
      "cell_type": "markdown",
      "metadata": {
        "id": "edo-GVS5SY8N"
      },
      "source": [
        "#Q2. Computer Science faculty of an institute who is teaching to mechanical and civil engineering students present  the challenge to design an automated solution which calculate and print the following  sum of series 1+3+5+7………+n"
      ]
    },
    {
      "cell_type": "code",
      "metadata": {
        "colab": {
          "base_uri": "https://localhost:8080/"
        },
        "id": "R2G5BFqCShnY",
        "outputId": "8a18053f-0cd9-4cc7-fee4-ab91c01a7b4b"
      },
      "source": [
        "d=int(input('Enter the value of n='))\n",
        "sum=0\n",
        "for x in range(1,d+1,2):\n",
        "    sum=sum+x\n",
        "print(\"Sum of series 1+3+5+7+.....+n=\",sum)\n",
        "print(\"END OF PROGRAM\")"
      ],
      "execution_count": null,
      "outputs": [
        {
          "output_type": "stream",
          "name": "stdout",
          "text": [
            "Enter he value of =9\n",
            "Sum of series from 1+3+5+7+.....+n= 25\n",
            "END OF PROGRAM\n"
          ]
        }
      ]
    },
    {
      "cell_type": "markdown",
      "metadata": {
        "id": "76MPdNjjYATS"
      },
      "source": [
        "#Q3. Normally in all engineering colleges, there will be a long vacation after every even semester and a short vacation after every odd semester. Given the current semester in which a student is in, create a small automated module based on below mentioned constraints that determine whether he will have a long vacation or short vacation at the end of this semester.\n",
        "#Constrains\n",
        "#Value should not be less than 0 and more than 8\n",
        "#Input Format: Input consists of 1 integer which corresponds to the current semester of the student. \tOutput :Long Vacation\t"
      ]
    },
    {
      "cell_type": "code",
      "metadata": {
        "id": "CNHo3YkAYW1z"
      },
      "source": [
        "e=int(input('The current semester of the student is= '))\n",
        "if (e==1 or e==3 or e==5 or e==7):\n",
        "    print(\"Short Vacation\")\n",
        "elif (e<0 or e>8):\n",
        "    print(\"The semester number must be from 0 to 8\")\n",
        "else:\n",
        "    print(\"Long Vacation\")\n",
        "print(\"END OF PROGRAM\")"
      ],
      "execution_count": null,
      "outputs": []
    },
    {
      "cell_type": "markdown",
      "metadata": {
        "id": "PQspd3TcanYY"
      },
      "source": [
        "#Q4. There are 10 students in the class. Students had their midterm result in INT102 and teacher wants to find the average marks of the class in INT102 and display it. Help the teacher to design an automated solution that accepts marks of 10 students as input and prints the average of marks as output.\n",
        "#Input: Enter the marks of 10 students in integer using for loop or while loop.\n",
        "#Output: Average marks of the class\t"
      ]
    },
    {
      "cell_type": "code",
      "metadata": {
        "id": "2YgxjMkFbAD7"
      },
      "source": [
        "names=[]\n",
        "grades=[]\n",
        "total=0\n",
        "for i in range(0,10):\n",
        "    name=input(\"Enter the name of the students: \")\n",
        "    names.append(name)\n",
        "for i in range(0,10):\n",
        "    print(\"Name of the student:\",names[i])\n",
        "    grade=eval(input(\"Enter the grades: \"))\n",
        "    grades.append(grade)\n",
        "for x in range(0,10):\n",
        "    total=total+grades[x]\n",
        "f=total/10\n",
        "print(\"Average marks of the class=\",f)\n",
        "print(\"END OF PROGRAM\")\n"
      ],
      "execution_count": null,
      "outputs": []
    },
    {
      "cell_type": "markdown",
      "metadata": {
        "id": "jZWj31vVexth"
      },
      "source": [
        "#Q5. There was a class of 60 students. It was the first day of their class. The students have to give their name to their teacher .They have given it in the format: FIRST NAME and LAST NAME, both separated by a space. When the first day ends, the teacher had to upload the names into the school’s website but, it was of the format:\n",
        "#LAST NAME and FIRST NAME both separated by a space. Design an automated solution using modular approach that swaps the two names.\n",
        "#INPUT: Aditya Roy\n",
        "#OUTPUT: Roy Aditya.\t\t\t\n"
      ]
    },
    {
      "cell_type": "code",
      "metadata": {
        "id": "rcZnQnbGfSe0"
      },
      "source": [
        "first_names=[]\n",
        "last_names=[]\n",
        "full_names=[]\n",
        "reverse_names=[]\n",
        "for i in range(0,60):\n",
        "  first_name=input('Enter first name-')\n",
        "  first_names.append(first_name)\n",
        "  last_name=input('Enter last name-')\n",
        "  last_names.append(last_name)\n",
        "for x in range(0,60):\n",
        "  full_names.append(first_names[x]+' '+last_names[x])\n",
        "print(\"List of FIRST NAME and LAST NAME of students-\",full_names)\n",
        "for x in range(0,60):\n",
        "  reverse_names.append(last_names[x]+' '+first_names[x])\n",
        "print(\"List of LAST NAME and FIRST NAME of students-\",reverse_names)\n",
        "print(\"END OF PROGRAM\")"
      ],
      "execution_count": null,
      "outputs": []
    },
    {
      "cell_type": "markdown",
      "metadata": {
        "id": "tJowQEKboEFL"
      },
      "source": [
        "#Q6.\tCheck whether the triangle is equilateral, scalene, or isosceles. Before writing the program, we should know the properties of isosceles, equilateral, and scalene triangles.\n",
        "#Isosceles triangle: In geometry, an isosceles triangle is a triangle that has two sides of equal length.\n",
        "#Equilateral triangle: In geometry, an equilateral triangle is a triangle in which all three sides are equal.  Scalene triangle: A scalene triangle is a triangle that has three unequal sides. Write the program in python that check whether the triangle is equilateral, scalene, or isosceles by taking number of sides as input values. "
      ]
    },
    {
      "cell_type": "code",
      "metadata": {
        "id": "aiB7RsalqQ9t"
      },
      "source": [
        "g=int(input('The number of equal sides='))\n",
        "if (g==3):\n",
        "  print(\"The triangle is equilateral\")\n",
        "elif (g==2):\n",
        "  print(\"The trangle is isosceles\")\n",
        "else:\n",
        "  print(\"The triangle is scalene\")\n",
        "print(\"END OF PROGRAM\")\n"
      ],
      "execution_count": null,
      "outputs": []
    }
  ]
}