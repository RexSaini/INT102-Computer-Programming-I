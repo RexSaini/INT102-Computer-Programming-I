{
  "nbformat": 4,
  "nbformat_minor": 0,
  "metadata": {
    "colab": {
      "name": "INT102 CA2.ipynb",
      "provenance": [],
      "collapsed_sections": []
    },
    "kernelspec": {
      "name": "python3",
      "display_name": "Python 3"
    },
    "language_info": {
      "name": "python"
    }
  },
  "cells": [
    {
      "cell_type": "markdown",
      "metadata": {
        "id": "nFmpWGq_USZD"
      },
      "source": [
        "#**INT102 Computer Programming-I**\n",
        "#**Name: Rohan Kumar Saini**\n",
        "#**Roll Number: RM2041A10**\n",
        "#**Registration Number: 12011878**"
      ]
    },
    {
      "cell_type": "markdown",
      "metadata": {
        "id": "GUwfLiAOWOah"
      },
      "source": [
        "#**Set B(Even Roll Number)**"
      ]
    },
    {
      "cell_type": "markdown",
      "metadata": {
        "id": "3wCixrppWYgz"
      },
      "source": [
        "#1. The manager of the company has informed his assistant to enter the age of all the workers working in production department. Among all he has to find the employee with minimum age employee. Help the manager to find the minimum age employee by storing the all age of all employees in 1D array. Use functions to solve this task.\n",
        "#Input Format\n",
        "#30 43 27 51 19\n",
        "#Constraints\n",
        "#All the inputs should be greater than 0 otherwise print wrong input\n",
        "#Output Format\n",
        "#19"
      ]
    },
    {
      "cell_type": "code",
      "metadata": {
        "id": "oiybmz4YXQEH"
      },
      "source": [
        "import numpy\n",
        "a=[]\n",
        "b=int(input(\"Total number of employees-\"))\n",
        "for x in range(b):\n",
        "    print(\"Age of employee is-\")\n",
        "    c=int(input())\n",
        "    if c<=0:\n",
        "      print(\"Wrong input\")\n",
        "      continue\n",
        "    a.append(c)\n",
        "d=numpy.array(a)   \n",
        "print(\"The minimum age is-\", d.min())\n",
        "print()\n",
        "print(\"END OF PROGRAM\")"
      ],
      "execution_count": null,
      "outputs": []
    },
    {
      "cell_type": "markdown",
      "metadata": {
        "id": "lzvgE6EVYOPj"
      },
      "source": [
        "#2. Suppose the university has decided to announce bonus 1 PMS point to employees those have PMS points more than 7. The appraisal will be based on PMS points. We have an array of employees with UID and PMS point . Display the list of employees those would be benefited with bonus . The bonus should be added to the employees who have UID and PMS through the concept of list comprehension.\n",
        "#Input Format\n",
        "#The input should contain list of employees with UID and PMS point.\n",
        "#Output Format\n",
        "#For each test case, display the UID and PMS point after bonus is being added."
      ]
    },
    {
      "cell_type": "code",
      "metadata": {
        "id": "b-FSd-IoYi9a"
      },
      "source": [
        "e=[]\n",
        "f=int(input(\"Number of employees are-\"))\n",
        "g=0 \n",
        "for x in range(f):\n",
        "    g=g+1\n",
        "    h=[input(\"UID:\".format(g)), int(input(\"PMS:\".format(g)))]\n",
        "    e.append(h)\n",
        "print(\"List of UID and PMS-\", e)\n",
        "print()\n",
        "for y in e:\n",
        "    if y[1]>7:\n",
        "     y[1]=y[1]+1\n",
        "print(\"Updated UID and PMS-\", e)\n",
        "print()\n",
        "print(\"END OF PROGRAM\")"
      ],
      "execution_count": null,
      "outputs": []
    },
    {
      "cell_type": "markdown",
      "metadata": {
        "id": "NBEXBMXsYoc2"
      },
      "source": [
        "#3. The manager of company has asked his assistant to present him with the list the ages of all the workers working in manufacturing division who are having the experience of 20 years. The assistant of thee manager replied him with the list of 10 employees who are having the experience of 20 years . Write a program that store the age of all 15 employees in 1D array and then print the total count of employees whose age lies between 50 and 60. Use functions to solve this task.\n",
        "#Input Format\n",
        "#57 49 54 48 59 55 46 57 58 60 58 62 56 70 73\n",
        "#Constraints\n",
        "#The Age of the employees should be greater than or equal to 40 and less than or equal to 60.\n",
        "#If constraints do not match then show \"wrong input\"\n",
        "#Output Format\n",
        "#8"
      ]
    },
    {
      "cell_type": "code",
      "metadata": {
        "id": "57HsekpojsXm"
      },
      "source": [
        "import numpy\n",
        "i=int(input('Number of employees are-'))\n",
        "j=[]\n",
        "k=[]\n",
        "for x in range(i):\n",
        "    l=int(input(\"Age of employee is-\"))\n",
        "    if l<=40 or l>=60:\n",
        "        print(\"wrong input\")\n",
        "    j.append(l)\n",
        "m=numpy.array(j)\n",
        "for y in range(i):\n",
        "    if j[y]>50 and j[y]<60:\n",
        "        k.append(j[y])\n",
        "print(k)\n",
        "print(\"The number of employees with age between 50 to 60-\", len(k))\n",
        "print()\n",
        "print(\"END OF PROGRAM\")"
      ],
      "execution_count": null,
      "outputs": []
    }
  ]
}